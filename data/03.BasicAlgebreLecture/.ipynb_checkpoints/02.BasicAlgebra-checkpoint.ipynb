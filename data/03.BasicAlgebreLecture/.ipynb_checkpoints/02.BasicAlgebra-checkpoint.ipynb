{
 "cells": [
  {
   "cell_type": "code",
   "execution_count": 3,
   "id": "initial_id",
   "metadata": {
    "ExecuteTime": {
     "end_time": "2024-08-03T21:57:56.142086Z",
     "start_time": "2024-08-03T21:57:56.136974Z"
    }
   },
   "outputs": [],
   "source": [
    "import numpy\n",
    "from numpy.polynomial import Polynomial"
   ]
  },
  {
   "cell_type": "code",
   "execution_count": 5,
   "id": "da9705b2b18bdd30",
   "metadata": {
    "ExecuteTime": {
     "end_time": "2024-08-03T22:15:00.714112Z",
     "start_time": "2024-08-03T22:15:00.684655Z"
    }
   },
   "outputs": [
    {
     "ename": "TypeError",
     "evalue": "ABCPolyBase.__init__() missing 1 required positional argument: 'coef'",
     "output_type": "error",
     "traceback": [
      "\u001b[1;31m---------------------------------------------------------------------------\u001b[0m",
      "\u001b[1;31mTypeError\u001b[0m                                 Traceback (most recent call last)",
      "Cell \u001b[1;32mIn[5], line 1\u001b[0m\n\u001b[1;32m----> 1\u001b[0m Polynomial()\n",
      "\u001b[1;31mTypeError\u001b[0m: ABCPolyBase.__init__() missing 1 required positional argument: 'coef'"
     ]
    }
   ],
   "source": [
    "Polynomial()"
   ]
  },
  {
   "cell_type": "code",
   "execution_count": null,
   "id": "8d9700c011f314bd",
   "metadata": {},
   "outputs": [],
   "source": []
  }
 ],
 "metadata": {
  "kernelspec": {
   "display_name": "Python 3 (ipykernel)",
   "language": "python",
   "name": "python3"
  },
  "language_info": {
   "codemirror_mode": {
    "name": "ipython",
    "version": 3
   },
   "file_extension": ".py",
   "mimetype": "text/x-python",
   "name": "python",
   "nbconvert_exporter": "python",
   "pygments_lexer": "ipython3",
   "version": "3.11.9"
  }
 },
 "nbformat": 4,
 "nbformat_minor": 5
}
