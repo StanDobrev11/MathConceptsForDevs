{
 "cells": [
  {
   "cell_type": "code",
   "execution_count": 3,
   "id": "initial_id",
   "metadata": {},
   "outputs": [],
   "source": [
    "import numpy as np\n",
    "import matplotlib.pyplot as plt"
   ]
  },
  {
   "cell_type": "markdown",
   "id": "1d9ebdf6-b5b6-49c2-ac2b-9f7708b3e469",
   "metadata": {},
   "source": [
    "# Calculus\n",
    "## Limits"
   ]
  },
  {
   "cell_type": "code",
   "execution_count": 14,
   "id": "26e4c2ef-7c0f-4329-a889-d6f3ad7e6043",
   "metadata": {},
   "outputs": [],
   "source": [
    "def get_limit(f, a):\n",
    "    \"\"\"\n",
    "    f - function\n",
    "    a - number\n",
    "    \"\"\"\n",
    "    delta = np.array([\n",
    "        10 ** p for p in np.arange(0, -11, -1, dtype = float)])  # array([1.e+00, 1.e-01, 1.e-02, 1.e-03, ..., 1.e-10])\n",
    "    x = np.append(a - delta, (a + delta)[::-1])\n",
    "    y = f(x)\n",
    "    return np.stack([x, y], axis = 1)"
   ]
  },
  {
   "cell_type": "code",
   "execution_count": 15,
   "id": "dc4a0be4-c246-4480-8fc7-70366713578f",
   "metadata": {},
   "outputs": [
    {
     "data": {
      "text/plain": [
       "array([[ 2.        ,  4.        ],\n",
       "       [ 2.9       ,  8.41      ],\n",
       "       [ 2.99      ,  8.9401    ],\n",
       "       [ 2.999     ,  8.994001  ],\n",
       "       [ 2.9999    ,  8.99940001],\n",
       "       [ 2.99999   ,  8.99994   ],\n",
       "       [ 2.999999  ,  8.999994  ],\n",
       "       [ 2.9999999 ,  8.9999994 ],\n",
       "       [ 2.99999999,  8.99999994],\n",
       "       [ 3.        ,  8.99999999],\n",
       "       [ 3.        ,  9.        ],\n",
       "       [ 3.        ,  9.        ],\n",
       "       [ 3.        ,  9.00000001],\n",
       "       [ 3.00000001,  9.00000006],\n",
       "       [ 3.0000001 ,  9.0000006 ],\n",
       "       [ 3.000001  ,  9.000006  ],\n",
       "       [ 3.00001   ,  9.00006   ],\n",
       "       [ 3.0001    ,  9.00060001],\n",
       "       [ 3.001     ,  9.006001  ],\n",
       "       [ 3.01      ,  9.0601    ],\n",
       "       [ 3.1       ,  9.61      ],\n",
       "       [ 4.        , 16.        ]])"
      ]
     },
     "execution_count": 15,
     "metadata": {},
     "output_type": "execute_result"
    }
   ],
   "source": [
    "get_limit(lambda x: x ** 2, 3)"
   ]
  },
  {
   "cell_type": "code",
   "id": "622ff3b2-e852-4ab6-920d-f579578452b6",
   "metadata": {
    "ExecuteTime": {
     "end_time": "2024-08-15T23:31:47.068327Z",
     "start_time": "2024-08-15T23:31:47.064131Z"
    }
   },
   "source": [
    "def df(x):\n",
    "    # f'(x^4 - 3x^3 + 2)\n",
    "    y = 4 * x ** 3 - 9 * x ** 2\n",
    "    return y"
   ],
   "outputs": [],
   "execution_count": 2
  },
  {
   "cell_type": "code",
   "id": "c93376d4-7a45-4571-afd3-54ee683b82a9",
   "metadata": {
    "ExecuteTime": {
     "end_time": "2024-08-15T23:34:14.439451Z",
     "start_time": "2024-08-15T23:32:02.860195Z"
    }
   },
   "source": [
    "x_new = 6\n",
    "x_old = 0\n",
    "step_size = 1e-2\n",
    "precision = 1e-5\n",
    "\n",
    "while abs(x_new - x_old) > precision:\n",
    "    x_old = x_new\n",
    "    x_new += -step_size * df(x_old)\n",
    "\n",
    "print('Local minimum at ', x_new)\n",
    "\n"
   ],
   "outputs": [
    {
     "ename": "KeyboardInterrupt",
     "evalue": "",
     "output_type": "error",
     "traceback": [
      "\u001B[1;31m---------------------------------------------------------------------------\u001B[0m",
      "\u001B[1;31mKeyboardInterrupt\u001B[0m                         Traceback (most recent call last)",
      "Cell \u001B[1;32mIn[3], line 8\u001B[0m\n\u001B[0;32m      6\u001B[0m \u001B[38;5;28;01mwhile\u001B[39;00m \u001B[38;5;28mabs\u001B[39m(x_new \u001B[38;5;241m-\u001B[39m x_old) \u001B[38;5;241m>\u001B[39m precision:\n\u001B[0;32m      7\u001B[0m     x_old \u001B[38;5;241m=\u001B[39m x_new\n\u001B[1;32m----> 8\u001B[0m     x_new \u001B[38;5;241m+\u001B[39m\u001B[38;5;241m=\u001B[39m \u001B[38;5;241m-\u001B[39mstep_size \u001B[38;5;241m*\u001B[39m df(x_old)\n\u001B[0;32m     10\u001B[0m \u001B[38;5;28mprint\u001B[39m(\u001B[38;5;124m'\u001B[39m\u001B[38;5;124mLocal minimum at \u001B[39m\u001B[38;5;124m'\u001B[39m, x_new)\n",
      "File \u001B[1;32m_pydevd_bundle\\\\pydevd_cython_win32_312_64.pyx:1187\u001B[0m, in \u001B[0;36m_pydevd_bundle.pydevd_cython_win32_312_64.SafeCallWrapper.__call__\u001B[1;34m()\u001B[0m\n",
      "File \u001B[1;32m_pydevd_bundle\\\\pydevd_cython_win32_312_64.pyx:627\u001B[0m, in \u001B[0;36m_pydevd_bundle.pydevd_cython_win32_312_64.PyDBFrame.trace_dispatch\u001B[1;34m()\u001B[0m\n",
      "File \u001B[1;32m_pydevd_bundle\\\\pydevd_cython_win32_312_64.pyx:1103\u001B[0m, in \u001B[0;36m_pydevd_bundle.pydevd_cython_win32_312_64.PyDBFrame.trace_dispatch\u001B[1;34m()\u001B[0m\n",
      "File \u001B[1;32m_pydevd_bundle\\\\pydevd_cython_win32_312_64.pyx:1061\u001B[0m, in \u001B[0;36m_pydevd_bundle.pydevd_cython_win32_312_64.PyDBFrame.trace_dispatch\u001B[1;34m()\u001B[0m\n",
      "File \u001B[1;32mC:\\Program Files\\JetBrains\\PyCharm 2024.1.1\\plugins\\python\\helpers-pro\\jupyter_debug\\pydev_jupyter_plugin.py:169\u001B[0m, in \u001B[0;36mstop\u001B[1;34m(plugin, pydb, frame, event, args, stop_info, arg, step_cmd)\u001B[0m\n\u001B[0;32m    167\u001B[0m     frame \u001B[38;5;241m=\u001B[39m suspend_jupyter(main_debugger, thread, frame, step_cmd)\n\u001B[0;32m    168\u001B[0m     \u001B[38;5;28;01mif\u001B[39;00m frame:\n\u001B[1;32m--> 169\u001B[0m         main_debugger\u001B[38;5;241m.\u001B[39mdo_wait_suspend(thread, frame, event, arg)\n\u001B[0;32m    170\u001B[0m         \u001B[38;5;28;01mreturn\u001B[39;00m \u001B[38;5;28;01mTrue\u001B[39;00m\n\u001B[0;32m    171\u001B[0m \u001B[38;5;28;01mreturn\u001B[39;00m \u001B[38;5;28;01mFalse\u001B[39;00m\n",
      "File \u001B[1;32mC:\\Program Files\\JetBrains\\PyCharm 2024.1.1\\plugins\\python\\helpers\\pydev\\pydevd.py:1185\u001B[0m, in \u001B[0;36mPyDB.do_wait_suspend\u001B[1;34m(self, thread, frame, event, arg, send_suspend_message, is_unhandled_exception)\u001B[0m\n\u001B[0;32m   1182\u001B[0m         from_this_thread\u001B[38;5;241m.\u001B[39mappend(frame_id)\n\u001B[0;32m   1184\u001B[0m \u001B[38;5;28;01mwith\u001B[39;00m \u001B[38;5;28mself\u001B[39m\u001B[38;5;241m.\u001B[39m_threads_suspended_single_notification\u001B[38;5;241m.\u001B[39mnotify_thread_suspended(thread_id, stop_reason):\n\u001B[1;32m-> 1185\u001B[0m     \u001B[38;5;28mself\u001B[39m\u001B[38;5;241m.\u001B[39m_do_wait_suspend(thread, frame, event, arg, suspend_type, from_this_thread)\n",
      "File \u001B[1;32mC:\\Program Files\\JetBrains\\PyCharm 2024.1.1\\plugins\\python\\helpers\\pydev\\pydevd.py:1200\u001B[0m, in \u001B[0;36mPyDB._do_wait_suspend\u001B[1;34m(self, thread, frame, event, arg, suspend_type, from_this_thread)\u001B[0m\n\u001B[0;32m   1197\u001B[0m             \u001B[38;5;28mself\u001B[39m\u001B[38;5;241m.\u001B[39m_call_mpl_hook()\n\u001B[0;32m   1199\u001B[0m         \u001B[38;5;28mself\u001B[39m\u001B[38;5;241m.\u001B[39mprocess_internal_commands()\n\u001B[1;32m-> 1200\u001B[0m         time\u001B[38;5;241m.\u001B[39msleep(\u001B[38;5;241m0.01\u001B[39m)\n\u001B[0;32m   1202\u001B[0m \u001B[38;5;28mself\u001B[39m\u001B[38;5;241m.\u001B[39mcancel_async_evaluation(get_current_thread_id(thread), \u001B[38;5;28mstr\u001B[39m(\u001B[38;5;28mid\u001B[39m(frame)))\n\u001B[0;32m   1204\u001B[0m \u001B[38;5;66;03m# process any stepping instructions\u001B[39;00m\n",
      "\u001B[1;31mKeyboardInterrupt\u001B[0m: "
     ]
    }
   ],
   "execution_count": 3
  }
 ],
 "metadata": {
  "kernelspec": {
   "display_name": "Python 3 (ipykernel)",
   "language": "python",
   "name": "python3"
  },
  "language_info": {
   "codemirror_mode": {
    "name": "ipython",
    "version": 3
   },
   "file_extension": ".py",
   "mimetype": "text/x-python",
   "name": "python",
   "nbconvert_exporter": "python",
   "pygments_lexer": "ipython3",
   "version": "3.11.9"
  }
 },
 "nbformat": 4,
 "nbformat_minor": 5
}
