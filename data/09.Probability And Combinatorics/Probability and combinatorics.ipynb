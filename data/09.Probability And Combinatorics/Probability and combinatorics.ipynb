{
 "cells": [
  {
   "cell_type": "code",
   "execution_count": 2,
   "id": "5da05d1b-dbca-4589-8068-38b60a5ea112",
   "metadata": {},
   "source": [
    "%matplotlib inline"
   ],
   "outputs": []
  },
  {
   "cell_type": "code",
   "execution_count": 16,
   "id": "fdd9e5c8-dc69-4cef-ae6a-ef020a8a8b9d",
   "metadata": {},
   "source": [
    "import numpy as np\n",
    "import matplotlib.pyplot as plt\n",
    "\n",
    "from collections import Counter"
   ],
   "outputs": []
  },
  {
   "cell_type": "markdown",
   "id": "84f3ff16-62a1-4484-a465-e74c7f0c0ef7",
   "metadata": {},
   "source": [
    "## Probability and Combinatorics"
   ]
  },
  {
   "cell_type": "code",
   "execution_count": 10,
   "id": "5a4e57c0-92e7-4943-bbcd-ca55c94da90b",
   "metadata": {
    "collapsed": true,
    "jupyter": {
     "outputs_hidden": true
    },
    "scrolled": true
   },
   "source": [
    "result = np.random.randint(1, 7, 100)\n",
    "plt.plot(result)\n",
    "plt.xlabel('# trial')\n",
    "plt.ylabel('result')\n",
    "plt.show()"
   ],
   "outputs": []
  },
  {
   "cell_type": "code",
   "execution_count": 18,
   "id": "b8b5efbd-708e-47bf-98b4-191537dcf322",
   "metadata": {},
   "source": [
    "counts = {}\n",
    "for num in result:\n",
    "    if not num in counts:\n",
    "        counts[num] = 0\n",
    "    counts[num] += 1\n",
    "\n",
    "counts"
   ],
   "outputs": []
  },
  {
   "cell_type": "code",
   "execution_count": 22,
   "id": "e0957b3d-bd1b-44e2-97b6-ea988f4883c7",
   "metadata": {},
   "source": [
    "Counter(result)"
   ],
   "outputs": []
  },
  {
   "cell_type": "markdown",
   "id": "9fd060d9-9a91-4243-a327-1089711a1603",
   "metadata": {},
   "source": [
    "If we want to work with bigger numbers and be able to plot them, we need to resize the figure of the plot to accommodate all the numbers:"
   ]
  },
  {
   "cell_type": "code",
   "execution_count": 28,
   "id": "14b7470c-6532-40f2-b977-e7c6d665505c",
   "metadata": {
    "collapsed": true,
    "jupyter": {
     "outputs_hidden": true
    },
    "scrolled": true
   },
   "source": [
    "result = np.random.randint(1, 7, 1000)\n",
    "plt.figure(figsize=(40, 5))\n",
    "plt.plot(result)\n",
    "plt.xlabel('# trial')\n",
    "plt.ylabel('result')\n",
    "plt.show()"
   ],
   "outputs": []
  },
  {
   "cell_type": "code",
   "execution_count": 35,
   "id": "89edb660-c844-4383-951e-7366b7dd8097",
   "metadata": {},
   "source": [
    "result = np.random.randint(1, 7, 1000)\n",
    "counts = Counter(result)"
   ],
   "outputs": []
  },
  {
   "cell_type": "code",
   "execution_count": 36,
   "id": "15ea04d9-4c00-407e-9498-dc19d1a585c0",
   "metadata": {},
   "source": [
    "counts"
   ],
   "outputs": []
  },
  {
   "cell_type": "code",
   "execution_count": 40,
   "id": "32b66ec8-e0d4-473e-afb2-2cc899f6a0fc",
   "metadata": {},
   "source": [
    "plt.hist(result, bins=range(1, 8))"
   ],
   "outputs": []
  },
  {
   "cell_type": "code",
   "execution_count": 45,
   "id": "e87c0508-9374-4bd6-8bc2-74e28bd35a66",
   "metadata": {},
   "source": [
    "plt.bar(counts.keys(), counts.values())\n",
    "plt.xlabel('Value')\n",
    "plt.ylabel('Count')\n",
    "plt.show()"
   ],
   "outputs": []
  },
  {
   "cell_type": "code",
   "execution_count": 46,
   "id": "59b209a4-8f1e-4623-a8c0-5d50e1d6b8b5",
   "metadata": {},
   "source": [
    "frequency = [v / len(result) for v in counts.values()]\n",
    "plt.bar(counts.keys(), frequency)\n",
    "plt.xlabel('Value')\n",
    "plt.ylabel('Frequency')\n",
    "plt.show()"
   ],
   "outputs": []
  }
 ],
 "metadata": {
  "kernelspec": {
   "display_name": "Python 3 (ipykernel)",
   "language": "python",
   "name": "python3"
  },
  "language_info": {
   "codemirror_mode": {
    "name": "ipython",
    "version": 3
   },
   "file_extension": ".py",
   "mimetype": "text/x-python",
   "name": "python",
   "nbconvert_exporter": "python",
   "pygments_lexer": "ipython3",
   "version": "3.11.9"
  }
 },
 "nbformat": 4,
 "nbformat_minor": 5
}
