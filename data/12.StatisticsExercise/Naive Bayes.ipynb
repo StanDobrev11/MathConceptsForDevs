{
 "cells": [
  {
   "cell_type": "code",
   "execution_count": 1,
   "id": "d6e3044a-bf13-4696-9ec9-2134f2e3233e",
   "metadata": {},
   "outputs": [],
   "source": [
    "import numpy as np\n",
    "import pandas as pd\n",
    "import matplotlib.pyplot as plt"
   ]
  },
  {
   "cell_type": "code",
   "execution_count": 23,
   "id": "3ac65ea6-7f48-4243-85be-64231d59e50a",
   "metadata": {},
   "outputs": [
    {
     "data": {
      "text/html": [
       "<div>\n",
       "<style scoped>\n",
       "    .dataframe tbody tr th:only-of-type {\n",
       "        vertical-align: middle;\n",
       "    }\n",
       "\n",
       "    .dataframe tbody tr th {\n",
       "        vertical-align: top;\n",
       "    }\n",
       "\n",
       "    .dataframe thead th {\n",
       "        text-align: right;\n",
       "    }\n",
       "</style>\n",
       "<table border=\"1\" class=\"dataframe\">\n",
       "  <thead>\n",
       "    <tr style=\"text-align: right;\">\n",
       "      <th></th>\n",
       "      <th>category</th>\n",
       "      <th>message</th>\n",
       "    </tr>\n",
       "  </thead>\n",
       "  <tbody>\n",
       "    <tr>\n",
       "      <th>0</th>\n",
       "      <td>ham</td>\n",
       "      <td>Go until jurong point, crazy.. Available only ...</td>\n",
       "    </tr>\n",
       "    <tr>\n",
       "      <th>1</th>\n",
       "      <td>ham</td>\n",
       "      <td>Ok lar... Joking wif u oni...</td>\n",
       "    </tr>\n",
       "    <tr>\n",
       "      <th>2</th>\n",
       "      <td>spam</td>\n",
       "      <td>Free entry in 2 a wkly comp to win FA Cup fina...</td>\n",
       "    </tr>\n",
       "    <tr>\n",
       "      <th>3</th>\n",
       "      <td>ham</td>\n",
       "      <td>U dun say so early hor... U c already then say...</td>\n",
       "    </tr>\n",
       "    <tr>\n",
       "      <th>4</th>\n",
       "      <td>ham</td>\n",
       "      <td>Nah I don't think he goes to usf, he lives aro...</td>\n",
       "    </tr>\n",
       "    <tr>\n",
       "      <th>...</th>\n",
       "      <td>...</td>\n",
       "      <td>...</td>\n",
       "    </tr>\n",
       "    <tr>\n",
       "      <th>5567</th>\n",
       "      <td>spam</td>\n",
       "      <td>This is the 2nd time we have tried 2 contact u...</td>\n",
       "    </tr>\n",
       "    <tr>\n",
       "      <th>5568</th>\n",
       "      <td>ham</td>\n",
       "      <td>Will ü b going to esplanade fr home?</td>\n",
       "    </tr>\n",
       "    <tr>\n",
       "      <th>5569</th>\n",
       "      <td>ham</td>\n",
       "      <td>Pity, * was in mood for that. So...any other s...</td>\n",
       "    </tr>\n",
       "    <tr>\n",
       "      <th>5570</th>\n",
       "      <td>ham</td>\n",
       "      <td>The guy did some bitching but I acted like i'd...</td>\n",
       "    </tr>\n",
       "    <tr>\n",
       "      <th>5571</th>\n",
       "      <td>ham</td>\n",
       "      <td>Rofl. Its true to its name</td>\n",
       "    </tr>\n",
       "  </tbody>\n",
       "</table>\n",
       "<p>5572 rows × 2 columns</p>\n",
       "</div>"
      ],
      "text/plain": [
       "     category                                            message\n",
       "0         ham  Go until jurong point, crazy.. Available only ...\n",
       "1         ham                      Ok lar... Joking wif u oni...\n",
       "2        spam  Free entry in 2 a wkly comp to win FA Cup fina...\n",
       "3         ham  U dun say so early hor... U c already then say...\n",
       "4         ham  Nah I don't think he goes to usf, he lives aro...\n",
       "...       ...                                                ...\n",
       "5567     spam  This is the 2nd time we have tried 2 contact u...\n",
       "5568      ham               Will ü b going to esplanade fr home?\n",
       "5569      ham  Pity, * was in mood for that. So...any other s...\n",
       "5570      ham  The guy did some bitching but I acted like i'd...\n",
       "5571      ham                         Rofl. Its true to its name\n",
       "\n",
       "[5572 rows x 2 columns]"
      ]
     },
     "execution_count": 23,
     "metadata": {},
     "output_type": "execute_result"
    }
   ],
   "source": [
    "emails = pd.read_csv('emails.csv', names=['category', 'message'], skiprows=1)\n",
    "emails"
   ]
  },
  {
   "cell_type": "code",
   "execution_count": 26,
   "id": "4f0bfeb6-0fda-4882-a412-4e52daea62d1",
   "metadata": {},
   "outputs": [
    {
     "data": {
      "text/plain": [
       "array(['our mobile number has won £5000, to claim calls us back or ring the claims hot line on 09050005321.'],\n",
       "      dtype=object)"
      ]
     },
     "execution_count": 26,
     "metadata": {},
     "output_type": "execute_result"
    }
   ],
   "source": [
    "emails.message.sample().values"
   ]
  },
  {
   "cell_type": "code",
   "execution_count": 30,
   "id": "d546ac37-3cb2-4ecc-ab20-c9a2792b616c",
   "metadata": {},
   "outputs": [
    {
     "data": {
      "text/plain": [
       "array(['Call me when u finish then i come n pick u.',\n",
       "       'Eh den sat u book e kb liao huh...',\n",
       "       'Is there any training tomorrow?',\n",
       "       'EASTENDERS TV Quiz. What FLOWER does DOT compare herself to? D= VIOLET E= TULIP F= LILY txt D E or F to 84025 NOW 4 chance 2 WIN £100 Cash WKENT/150P16+',\n",
       "       \"Yup but it's not giving me problems now so mayb i'll jus leave it...\",\n",
       "       'May i call You later Pls',\n",
       "       'This weeks SavaMob member offers are now accessible. Just call 08709501522 for details! SavaMob, POBOX 139, LA3 2WU. Only £1.50/week. SavaMob - offers mobile!',\n",
       "       'Somebody should go to andros and steal ice',\n",
       "       'I like you peoples very much:) but am very shy pa.',\n",
       "       'hanks lotsly!'], dtype=object)"
      ]
     },
     "execution_count": 30,
     "metadata": {},
     "output_type": "execute_result"
    }
   ],
   "source": [
    "emails.message.sample(10).values"
   ]
  },
  {
   "cell_type": "code",
   "execution_count": 28,
   "id": "09ca153e-8957-4f5a-8e11-c4bea891fed4",
   "metadata": {},
   "outputs": [
    {
     "data": {
      "text/plain": [
       "category\n",
       "ham     4825\n",
       "spam     747\n",
       "Name: count, dtype: int64"
      ]
     },
     "execution_count": 28,
     "metadata": {},
     "output_type": "execute_result"
    }
   ],
   "source": [
    "emails.category.value_counts()"
   ]
  },
  {
   "cell_type": "code",
   "execution_count": 29,
   "id": "ac55df23-42b0-4f9d-84f8-0699de5ea602",
   "metadata": {},
   "outputs": [
    {
     "data": {
      "text/plain": [
       "category\n",
       "ham     0.865937\n",
       "spam    0.134063\n",
       "Name: count, dtype: float64"
      ]
     },
     "execution_count": 29,
     "metadata": {},
     "output_type": "execute_result"
    }
   ],
   "source": [
    "emails.category.value_counts()/len(emails)"
   ]
  },
  {
   "cell_type": "code",
   "execution_count": 32,
   "id": "8733b507-e786-401f-b871-40c1ecf4c3df",
   "metadata": {},
   "outputs": [
    {
     "data": {
      "text/plain": [
       "'Go until jurong point, crazy.. Available only in bugis n great world la e buffet... Cine there got amore wat...'"
      ]
     },
     "execution_count": 32,
     "metadata": {},
     "output_type": "execute_result"
    }
   ],
   "source": [
    "emails.loc[0].message"
   ]
  },
  {
   "cell_type": "code",
   "execution_count": 34,
   "id": "fd3e4cd6-adfc-4495-8180-80a4fcf714d5",
   "metadata": {},
   "outputs": [
    {
     "data": {
      "text/plain": [
       "message\n",
       "22     117\n",
       "24      99\n",
       "32      98\n",
       "23      95\n",
       "26      88\n",
       "      ... \n",
       "300      1\n",
       "363      1\n",
       "375      1\n",
       "431      1\n",
       "273      1\n",
       "Name: count, Length: 276, dtype: int64"
      ]
     },
     "execution_count": 34,
     "metadata": {},
     "output_type": "execute_result"
    }
   ],
   "source": [
    "emails.message.str.len().value_counts()"
   ]
  },
  {
   "cell_type": "code",
   "execution_count": 41,
   "id": "40352b68-5222-4561-841e-99d9547c6e86",
   "metadata": {},
   "outputs": [
    {
     "data": {
      "text/plain": [
       "85"
      ]
     },
     "execution_count": 41,
     "metadata": {},
     "output_type": "execute_result"
    }
   ],
   "source": [
    "len(emails.message[emails.message.str.len() == 22].unique())"
   ]
  },
  {
   "cell_type": "code",
   "execution_count": 43,
   "id": "beb71ac3-80f8-493b-975d-8537fd93320d",
   "metadata": {},
   "outputs": [
    {
     "data": {
      "image/png": "[encoded data removed]",
      "text/plain": [
       "<Figure size 640x480 with 1 Axes>"
      ]
     },
     "metadata": {},
     "output_type": "display_data"
    }
   ],
   "source": [
    "plt.hist(emails.message.str.len(), bins = 'fd')\n",
    "plt.show()"
   ]
  },
  {
   "cell_type": "markdown",
   "id": "bba5f18f-ee80-4452-b6b2-f80bffe84cb0",
   "metadata": {},
   "source": [
    "What we observe is a bimodal distribution with strong positive asymmetry.\n",
    "bins='fd' - automatic bins\n"
   ]
  },
  {
   "cell_type": "code",
   "execution_count": 44,
   "id": "3c40a5f5-7368-4b8e-9f45-a4564146f171",
   "metadata": {},
   "outputs": [
    {
     "data": {
      "text/plain": [
       "2.5068062602153236"
      ]
     },
     "execution_count": 44,
     "metadata": {},
     "output_type": "execute_result"
    }
   ],
   "source": [
    "emails.message.str.len().skew()"
   ]
  },
  {
   "cell_type": "code",
   "execution_count": 45,
   "id": "9db25b5a-63de-4d9b-8065-97e3d56f065a",
   "metadata": {},
   "outputs": [
    {
     "ename": "NameError",
     "evalue": "name 'Counter' is not defined",
     "output_type": "error",
     "traceback": [
      "\u001b[1;31m---------------------------------------------------------------------------\u001b[0m",
      "\u001b[1;31mNameError\u001b[0m                                 Traceback (most recent call last)",
      "Cell \u001b[1;32mIn[45], line 1\u001b[0m\n\u001b[1;32m----> 1\u001b[0m \u001b[43mCounter\u001b[49m(emails\u001b[38;5;241m.\u001b[39mmessage)\n",
      "\u001b[1;31mNameError\u001b[0m: name 'Counter' is not defined"
     ]
    }
   ],
   "source": [
    "Counter(emails.message)"
   ]
  }
 ],
 "metadata": {
  "kernelspec": {
   "display_name": "Python 3 (ipykernel)",
   "language": "python",
   "name": "python3"
  },
  "language_info": {
   "codemirror_mode": {
    "name": "ipython",
    "version": 3
   },
   "file_extension": ".py",
   "mimetype": "text/x-python",
   "name": "python",
   "nbconvert_exporter": "python",
   "pygments_lexer": "ipython3",
   "version": "3.11.9"
  }
 },
 "nbformat": 4,
 "nbformat_minor": 5
}
